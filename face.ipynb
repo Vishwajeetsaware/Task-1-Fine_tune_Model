{
 "cells": [
  {
   "cell_type": "code",
   "execution_count": 3,
   "metadata": {},
   "outputs": [],
   "source": [
    "import os\n",
    "import numpy as np\n",
    "import cv2\n",
    "import matplotlib.pyplot as plt\n",
    "from sklearn.model_selection import train_test_split\n",
    "from keras.applications.vgg16 import VGG16\n",
    "from keras.models import Model\n",
    "from keras.layers import Dense, Flatten\n",
    "from keras.optimizers import Adam\n"
   ]
  },
  {
   "cell_type": "code",
   "execution_count": 4,
   "metadata": {},
   "outputs": [
    {
     "name": "stdout",
     "output_type": "stream",
     "text": [
      "Loaded batch of 32 images\n"
     ]
    }
   ],
   "source": [
    "import os\n",
    "import cv2\n",
    "import numpy as np\n",
    "\n",
    "def load_data_generator(data_dir, batch_size=32):\n",
    "    images = []\n",
    "    ages = []\n",
    "    batch_count = 0\n",
    "    \n",
    "    \n",
    "    for subdir in os.listdir(data_dir):\n",
    "        subdir_path = os.path.join(data_dir, subdir)\n",
    "        if os.path.isdir(subdir_path):\n",
    "            age = int(subdir)  \n",
    "            for img_name in os.listdir(subdir_path):\n",
    "                img_path = os.path.join(subdir_path, img_name)\n",
    "                img = cv2.imread(img_path)\n",
    "                img = cv2.resize(img, (224, 224))  \n",
    "                \n",
    "                images.append(img)\n",
    "                ages.append(age)\n",
    "                \n",
    "               \n",
    "                if len(images) == batch_size:\n",
    "                    images = np.array(images, dtype=np.float32) / 255.0  \n",
    "                    ages = np.array(ages)\n",
    "                    yield images, ages\n",
    "                    images, ages = [], []  \n",
    "\n",
    "    # Yield any remaining data smaller than batch size\n",
    "    if len(images) > 0:\n",
    "        images = np.array(images, dtype=np.float32) / 255.0\n",
    "        ages = np.array(ages)\n",
    "        yield images, ages\n",
    "\n",
    "\n",
    "data_dir = 'archive/imdb_crop'  \n",
    "batch_size = 32  \n",
    "data_gen = load_data_generator(data_dir, batch_size)\n",
    "\n",
    "\n",
    "X, y = next(data_gen)\n",
    "print(f\"Loaded batch of {len(X)} images\")\n"
   ]
  },
  {
   "cell_type": "code",
   "execution_count": 5,
   "metadata": {},
   "outputs": [],
   "source": [
    "X_train, X_val, y_train, y_val = train_test_split(X, y, test_size=0.2, random_state=42)\n"
   ]
  },
  {
   "cell_type": "code",
   "execution_count": 6,
   "metadata": {},
   "outputs": [
    {
     "name": "stdout",
     "output_type": "stream",
     "text": [
      "Model: \"model\"\n",
      "_________________________________________________________________\n",
      " Layer (type)                Output Shape              Param #   \n",
      "=================================================================\n",
      " input_1 (InputLayer)        [(None, 224, 224, 3)]     0         \n",
      "                                                                 \n",
      " conv1_1 (Conv2D)            (None, 224, 224, 64)      1792      \n",
      "                                                                 \n",
      " conv1_2 (Conv2D)            (None, 224, 224, 64)      36928     \n",
      "                                                                 \n",
      " pool1 (MaxPooling2D)        (None, 112, 112, 64)      0         \n",
      "                                                                 \n",
      " conv2_1 (Conv2D)            (None, 112, 112, 128)     73856     \n",
      "                                                                 \n",
      " conv2_2 (Conv2D)            (None, 112, 112, 128)     147584    \n",
      "                                                                 \n",
      " pool2 (MaxPooling2D)        (None, 56, 56, 128)       0         \n",
      "                                                                 \n",
      " conv3_1 (Conv2D)            (None, 56, 56, 256)       295168    \n",
      "                                                                 \n",
      " conv3_2 (Conv2D)            (None, 56, 56, 256)       590080    \n",
      "                                                                 \n",
      " conv3_3 (Conv2D)            (None, 56, 56, 256)       590080    \n",
      "                                                                 \n",
      " pool3 (MaxPooling2D)        (None, 28, 28, 256)       0         \n",
      "                                                                 \n",
      " conv4_1 (Conv2D)            (None, 28, 28, 512)       1180160   \n",
      "                                                                 \n",
      " conv4_2 (Conv2D)            (None, 28, 28, 512)       2359808   \n",
      "                                                                 \n",
      " conv4_3 (Conv2D)            (None, 28, 28, 512)       2359808   \n",
      "                                                                 \n",
      " pool4 (MaxPooling2D)        (None, 14, 14, 512)       0         \n",
      "                                                                 \n",
      " conv5_1 (Conv2D)            (None, 14, 14, 512)       2359808   \n",
      "                                                                 \n",
      " conv5_2 (Conv2D)            (None, 14, 14, 512)       2359808   \n",
      "                                                                 \n",
      " conv5_3 (Conv2D)            (None, 14, 14, 512)       2359808   \n",
      "                                                                 \n",
      " pool5 (MaxPooling2D)        (None, 7, 7, 512)         0         \n",
      "                                                                 \n",
      " flatten (Flatten)           (None, 25088)             0         \n",
      "                                                                 \n",
      " dense (Dense)               (None, 256)               6422784   \n",
      "                                                                 \n",
      " dense_1 (Dense)             (None, 1)                 257       \n",
      "                                                                 \n",
      "=================================================================\n",
      "Total params: 21,137,729\n",
      "Trainable params: 6,423,041\n",
      "Non-trainable params: 14,714,688\n",
      "_________________________________________________________________\n"
     ]
    }
   ],
   "source": [
    "# Import necessary libraries\n",
    "import numpy as np\n",
    "import cv2\n",
    "import os\n",
    "from keras_vggface.vggface import VGGFace\n",
    "from tensorflow.keras.layers import Flatten, Dense\n",
    "from tensorflow.keras.models import Model\n",
    "\n",
    "# Load the base VGGFace model (VGG16 architecture)\n",
    "base_model = VGGFace(model='vgg16', include_top=False, input_shape=(224, 224, 3))\n",
    "\n",
    "\n",
    "x = Flatten()(base_model.output)\n",
    "x = Dense(256, activation='relu')(x)\n",
    "# Output layer for regression (age prediction)\n",
    "\n",
    "output = Dense(1, activation='linear')(x)  \n",
    "# Create the new model\n",
    "model = Model(inputs=base_model.input, outputs=output)\n",
    "\n",
    "\n",
    "for layer in base_model.layers:\n",
    "    layer.trainable = False\n",
    "\n",
    "# Compile our model\n",
    "model.compile(optimizer='adam', loss='mean_squared_error', metrics=['mae'])\n",
    "\n",
    "\n",
    "model.summary()\n"
   ]
  },
  {
   "cell_type": "code",
   "execution_count": 7,
   "metadata": {},
   "outputs": [],
   "source": [
    "model.compile(optimizer=Adam(), loss='mean_squared_error', metrics=['mae'])\n"
   ]
  },
  {
   "cell_type": "code",
   "execution_count": 16,
   "metadata": {},
   "outputs": [
    {
     "name": "stdout",
     "output_type": "stream",
     "text": [
      "Epoch 1/5\n",
      "1/1 [==============================] - 105s 105s/step - loss: 1.3958 - mae: 1.0255 - val_loss: 0.6129 - val_mae: 0.7770\n",
      "Epoch 2/5\n",
      "1/1 [==============================] - 104s 104s/step - loss: 1.1414 - mae: 0.9248 - val_loss: 0.5168 - val_mae: 0.7139\n",
      "Epoch 3/5\n",
      "1/1 [==============================] - 105s 105s/step - loss: 0.9359 - mae: 0.8360 - val_loss: 0.4384 - val_mae: 0.6577\n",
      "Epoch 4/5\n",
      "1/1 [==============================] - 105s 105s/step - loss: 0.7704 - mae: 0.7563 - val_loss: 0.3737 - val_mae: 0.6073\n",
      "Epoch 5/5\n",
      "1/1 [==============================] - 113s 113s/step - loss: 0.6366 - mae: 0.6848 - val_loss: 0.3205 - val_mae: 0.5621\n"
     ]
    }
   ],
   "source": [
    "history = model.fit(X_train, y_train, validation_data=(X_val, y_val), epochs=5, batch_size=32)\n"
   ]
  },
  {
   "cell_type": "code",
   "execution_count": 17,
   "metadata": {},
   "outputs": [
    {
     "name": "stdout",
     "output_type": "stream",
     "text": [
      "1/1 [==============================] - 20s 20s/step - loss: 0.3205 - mae: 0.5621\n",
      "Validation Loss: 0.3205040991306305, Validation MAE: 0.5621420741081238\n"
     ]
    }
   ],
   "source": [
    "val_loss, val_mae = model.evaluate(X_val, y_val)\n",
    "print(f'Validation Loss: {val_loss}, Validation MAE: {val_mae}')\n"
   ]
  },
  {
   "cell_type": "code",
   "execution_count": 18,
   "metadata": {},
   "outputs": [
    {
     "name": "stdout",
     "output_type": "stream",
     "text": [
      "Epoch 1/5\n",
      "1/1 [==============================] - 94s 94s/step - loss: 0.5283 - mae: 0.6207 - val_loss: 0.2709 - val_mae: 0.5165\n",
      "Epoch 2/5\n",
      "1/1 [==============================] - 96s 96s/step - loss: 0.4287 - mae: 0.5550 - val_loss: 0.2299 - val_mae: 0.4753\n",
      "Epoch 3/5\n",
      "1/1 [==============================] - 101s 101s/step - loss: 0.3483 - mae: 0.4969 - val_loss: 0.1957 - val_mae: 0.4380\n",
      "Epoch 4/5\n",
      "1/1 [==============================] - 103s 103s/step - loss: 0.2842 - mae: 0.4468 - val_loss: 0.1671 - val_mae: 0.4042\n",
      "Epoch 5/5\n",
      "1/1 [==============================] - 107s 107s/step - loss: 0.2325 - mae: 0.4065 - val_loss: 0.1433 - val_mae: 0.3737\n"
     ]
    }
   ],
   "source": [
    "\n",
    "for layer in base_model.layers[-4:]:  \n",
    "    layer.trainable = True\n",
    "\n",
    "# Compile the model again\n",
    "model.compile(optimizer=Adam(learning_rate=1e-5), loss='mean_squared_error', metrics=['mae'])\n",
    "\n",
    "# Continue training\n",
    "history_finetune = model.fit(X_train, y_train, validation_data=(X_val, y_val), epochs=5, batch_size=32)\n"
   ]
  },
  {
   "cell_type": "code",
   "execution_count": 19,
   "metadata": {},
   "outputs": [],
   "source": [
    "model.save('age_detection_model.h5')\n"
   ]
  },
  {
   "cell_type": "code",
   "execution_count": 20,
   "metadata": {},
   "outputs": [
    {
     "data": {
      "image/png": "[encoded data removed]",
      "text/plain": [
       "<Figure size 640x480 with 1 Axes>"
      ]
     },
     "metadata": {},
     "output_type": "display_data"
    }
   ],
   "source": [
    "plt.plot(history.history['loss'], label='Train Loss')\n",
    "plt.plot(history.history['val_loss'], label='Validation Loss')\n",
    "plt.xlabel('Epochs')\n",
    "plt.ylabel('Loss')\n",
    "plt.legend()\n",
    "plt.show()\n"
   ]
  },
  {
   "cell_type": "code",
   "execution_count": 21,
   "metadata": {},
   "outputs": [
    {
     "name": "stdout",
     "output_type": "stream",
     "text": [
      "1/1 [==============================] - 31s 31s/step\n",
      "Mean Absolute Error: 0.3736594659941537\n",
      "Mean Squared Error: 0.1432743895886457\n",
      "Custom Accuracy within 5 years: 100.00%\n"
     ]
    }
   ],
   "source": [
    "from sklearn.metrics import mean_absolute_error, mean_squared_error\n",
    "\n",
    "\n",
    "y_pred = model.predict(X_val)\n",
    "\n",
    "# Calculate mean absolute error and mean squared error\n",
    "mae = mean_absolute_error(y_val, y_pred)\n",
    "mse = mean_squared_error(y_val, y_pred)\n",
    "\n",
    "print(f'Mean Absolute Error: {mae}')\n",
    "print(f'Mean Squared Error: {mse}')\n",
    "\n",
    "# Custom Accuracy Metric based on the acceptable error margin (in years)\n",
    "def custom_accuracy(y_true, y_pred, tolerance=5):\n",
    "   \n",
    "    correct_preds = np.abs(y_true - y_pred) <= tolerance\n",
    "    accuracy = np.mean(correct_preds)\n",
    "    return accuracy\n",
    "\n",
    "tolerance = 5 \n",
    "accuracy = custom_accuracy(y_val, y_pred, tolerance)\n",
    "print(f'Custom Accuracy within {tolerance} years: {accuracy * 100:.2f}%')"
   ]
  },
  {
   "cell_type": "code",
   "execution_count": null,
   "metadata": {},
   "outputs": [],
   "source": []
  }
 ],
 "metadata": {
  "kernelspec": {
   "display_name": "tf",
   "language": "python",
   "name": "python3"
  },
  "language_info": {
   "codemirror_mode": {
    "name": "ipython",
    "version": 3
   },
   "file_extension": ".py",
   "mimetype": "text/x-python",
   "name": "python",
   "nbconvert_exporter": "python",
   "pygments_lexer": "ipython3",
   "version": "3.10.10"
  }
 },
 "nbformat": 4,
 "nbformat_minor": 2
}
